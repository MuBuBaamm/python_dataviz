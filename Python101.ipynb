{
 "cells": [
  {
   "cell_type": "markdown",
   "metadata": {},
   "source": [
    "# Variable คือ ตัวแปร ซึ่งเป็นตัวที่ใช้ในการอ้างอิง โดยตัวแปรต่อไปนี้เป็นตัวแปรขั้นต้นของ Python"
   ]
  },
  {
   "cell_type": "markdown",
   "metadata": {},
   "source": [
    "## 1) int หรือ integer คือ จำนวนเต็ม"
   ]
  },
  {
   "cell_type": "code",
   "execution_count": 1,
   "metadata": {},
   "outputs": [],
   "source": [
    "a = 10            #กำหนดให้ a เท่ากับ 10"
   ]
  },
  {
   "cell_type": "code",
   "execution_count": 3,
   "metadata": {},
   "outputs": [
    {
     "name": "stdout",
     "output_type": "stream",
     "text": [
      "10\n"
     ]
    }
   ],
   "source": [
    "print(a)            #เรียกดูตัวแปร a โดยใช้ print()"
   ]
  },
  {
   "cell_type": "markdown",
   "metadata": {},
   "source": [
    "## 2) float คือ เลขที่มีทศนิยม"
   ]
  },
  {
   "cell_type": "code",
   "execution_count": 2,
   "metadata": {},
   "outputs": [],
   "source": [
    "b = 10.            #กำหนดให้ b เท่ากับ 10.0"
   ]
  },
  {
   "cell_type": "code",
   "execution_count": 4,
   "metadata": {},
   "outputs": [
    {
     "name": "stdout",
     "output_type": "stream",
     "text": [
      "10.0\n"
     ]
    }
   ],
   "source": [
    "print(b)            #เรียกดูตัวแปร b โดยใช้ print()"
   ]
  },
  {
   "cell_type": "markdown",
   "metadata": {},
   "source": [
    "## 3) char หรือ character คือ ตัวหนังสือหรือตัวอักษร"
   ]
  },
  {
   "cell_type": "code",
   "execution_count": 5,
   "metadata": {},
   "outputs": [],
   "source": [
    "c = '1'            #กำหนดให้ c เท่ากับ ตัวอักษร 1 โดย ' ' คือ code"
   ]
  },
  {
   "cell_type": "code",
   "execution_count": 6,
   "metadata": {},
   "outputs": [],
   "source": [
    "d = \"a\"         #กำหนดให้ d เท่ากับ ตัวอักษร a โดย \" \" คือ double code"
   ]
  },
  {
   "cell_type": "markdown",
   "metadata": {},
   "source": [
    "#### อีกหนึ่งวิธีการเรียกดูตัวแปร คือ ไม่จำเป็นต้องพิมพ์ print โดยสามารถพิมพ์ตัวแปรที่ต้องการเรียกดู และ shift+enter ได้เลย"
   ]
  },
  {
   "cell_type": "code",
   "execution_count": 7,
   "metadata": {},
   "outputs": [
    {
     "data": {
      "text/plain": [
       "'1'"
      ]
     },
     "execution_count": 7,
     "metadata": {},
     "output_type": "execute_result"
    }
   ],
   "source": [
    "c                 #เรียกดูตัวแปร c โดยการพิมพ์ c"
   ]
  },
  {
   "cell_type": "code",
   "execution_count": 8,
   "metadata": {},
   "outputs": [
    {
     "data": {
      "text/plain": [
       "'a'"
      ]
     },
     "execution_count": 8,
     "metadata": {},
     "output_type": "execute_result"
    }
   ],
   "source": [
    "d"
   ]
  },
  {
   "cell_type": "markdown",
   "metadata": {},
   "source": [
    "#### int และ float สามารถนำมาบวก ลบ คูณ หารได้ แต่ character ไม่สามารถทำได้เนื่องจากเป็นตัวหนังสือ"
   ]
  },
  {
   "cell_type": "markdown",
   "metadata": {},
   "source": [
    "# Operations หรือ Operators คือ การบวก ลบ คูณ หาร"
   ]
  },
  {
   "cell_type": "code",
   "execution_count": 9,
   "metadata": {},
   "outputs": [
    {
     "data": {
      "text/plain": [
       "20.0"
      ]
     },
     "execution_count": 9,
     "metadata": {},
     "output_type": "execute_result"
    }
   ],
   "source": [
    "a+b            #เมื่อนำ int กับ float มาบวกกันจะได้ float ซึ่งค่าที่ออกมาจะไม่สามารถนำไปใช้ต่อได้ เนื่องจากไม่มีตัวมารองรับค่า"
   ]
  },
  {
   "cell_type": "code",
   "execution_count": 10,
   "metadata": {},
   "outputs": [],
   "source": [
    "ab = a+b            #ทำการกำหนดตัวแปร ab เพื่อมารองรับค่า a+b "
   ]
  },
  {
   "cell_type": "code",
   "execution_count": 11,
   "metadata": {},
   "outputs": [
    {
     "data": {
      "text/plain": [
       "20.0"
      ]
     },
     "execution_count": 11,
     "metadata": {},
     "output_type": "execute_result"
    }
   ],
   "source": [
    "ab"
   ]
  },
  {
   "cell_type": "markdown",
   "metadata": {},
   "source": [
    "#### ในการตั้งชื่อตัวแปรไม่ควรตั้งชื่อเป็นภาษาไทย และไม่ควรตั้งชื่อเป็น Operations"
   ]
  },
  {
   "cell_type": "code",
   "execution_count": 14,
   "metadata": {},
   "outputs": [
    {
     "name": "stdout",
     "output_type": "stream",
     "text": [
      "10.0\n"
     ]
    }
   ],
   "source": [
    "a_b = ab-b            \n",
    "print(a_b)            #เมื่อต้องการทราบค่าผลลัพธ์แบบไม่ต้องการ run สองรอบสามารถเขียน code หลายๆบรรทัดใน cell เดียวได้ โดยการกดปุ่ม enter และเมื่อพิมพ์คำสั่งทั้งหมดเรียบร้อยแล้วจึง shift+enter เพื่อดูผล"
   ]
  },
  {
   "cell_type": "markdown",
   "metadata": {},
   "source": [
    "## Modulo คือ เครื่องหมายเปอร์เซ็น(%) เป็นการหารเพื่อหาเศษ"
   ]
  },
  {
   "cell_type": "code",
   "execution_count": 15,
   "metadata": {},
   "outputs": [
    {
     "data": {
      "text/plain": [
       "2"
      ]
     },
     "execution_count": 15,
     "metadata": {},
     "output_type": "execute_result"
    }
   ],
   "source": [
    "5%3            #นำ 5 มาหาร 3 ผลลัพธ์ที่ได้ออกมาคือได้เศษ 2"
   ]
  },
  {
   "cell_type": "markdown",
   "metadata": {},
   "source": [
    "## / คือ เครื่องหมายหาร เป็นการหารปกติที่ได้ผลลัพธ์ทั่วไป"
   ]
  },
  {
   "cell_type": "code",
   "execution_count": 16,
   "metadata": {},
   "outputs": [],
   "source": [
    "x1 = 5            #โดยต้องทำการกำหนดตัวแปรก่อน\n",
    "x2 = 3"
   ]
  },
  {
   "cell_type": "code",
   "execution_count": 17,
   "metadata": {},
   "outputs": [
    {
     "data": {
      "text/plain": [
       "1.6666666666666667"
      ]
     },
     "execution_count": 17,
     "metadata": {},
     "output_type": "execute_result"
    }
   ],
   "source": [
    "x1/x2"
   ]
  },
  {
   "cell_type": "markdown",
   "metadata": {},
   "source": [
    "# Casting คือ คำสั่งที่ใช้ในการเปลี่ยนชนิดข้อมูล"
   ]
  },
  {
   "cell_type": "markdown",
   "metadata": {},
   "source": [
    "## int() เป็นคำสั่งที่ช่วยในการแปลงตัวเลขจาก float เป็น int ซึ่งจะทำการเปลี่ยนข้อมูลภายใน () ให้เป็น int"
   ]
  },
  {
   "cell_type": "code",
   "execution_count": 18,
   "metadata": {},
   "outputs": [
    {
     "data": {
      "text/plain": [
       "1"
      ]
     },
     "execution_count": 18,
     "metadata": {},
     "output_type": "execute_result"
    }
   ],
   "source": [
    "int(x1/x2)"
   ]
  },
  {
   "cell_type": "code",
   "execution_count": 19,
   "metadata": {},
   "outputs": [
    {
     "name": "stdout",
     "output_type": "stream",
     "text": [
      "1\n"
     ]
    }
   ],
   "source": [
    "o = int(x1/x2)\n",
    "print(o)                    #ทำการกำหนดตัวแปร o เพื่อรองรับหรือเก็บค่า int(x1/x2)"
   ]
  },
  {
   "cell_type": "code",
   "execution_count": 20,
   "metadata": {},
   "outputs": [
    {
     "data": {
      "text/plain": [
       "1.0"
      ]
     },
     "execution_count": 20,
     "metadata": {},
     "output_type": "execute_result"
    }
   ],
   "source": [
    "float(o)          #เมื่อต้องการให้ค่าภายในตัวแปร o เปลี่ยนจาก int เป็น float ก็จะใช้คำสั่ง float() เพื่อทำการเปลี่ยนชนิดข้อมูลภายใน()      "
   ]
  },
  {
   "cell_type": "markdown",
   "metadata": {},
   "source": [
    "#### ข้อควรระวัง ไม่ควรนำชื่อของคำสั่งมาตั้งเป็นชื่อตัวแปร โดยสามารถดูจากสีตัวหนังสือ ซึ่งถ้าเป็นคำสั่งตัวหนังสือจะเป็นสีเขียว"
   ]
  },
  {
   "cell_type": "markdown",
   "metadata": {},
   "source": [
    "# Data Structure (โครงสร้างข้อมูล) คือ การเก็บตัวแปรหลายๆตัวมาเก็บไว้ที่เดียวกัน\n",
    "## List คือ การนำเอาตัวแปรหลายๆตัวมาเรียงต่อกัน โดยใช้คำสั่ง ชื่อ list ตามด้วย = [] ซึ่งจะมีด้วยกัน 2 แบบ\n",
    "## List method 1 เป็นการพิมพ์สมาชิกที่อยากได้ลงไปเลย"
   ]
  },
  {
   "cell_type": "code",
   "execution_count": 21,
   "metadata": {},
   "outputs": [],
   "source": [
    "list_a = []         #ตั้งชื่อ list ขึ้นมาให้เพื่อเก็บตัวแปรที่ต้องการ โดยในที่นี้ตั้งชื่อว่า list_a ให้ทำการเก็บ [] โดยหมายความว่าใน [] มีสมาชิกศูนย์ตัว"
   ]
  },
  {
   "cell_type": "code",
   "execution_count": 22,
   "metadata": {},
   "outputs": [
    {
     "data": {
      "text/plain": [
       "[]"
      ]
     },
     "execution_count": 22,
     "metadata": {},
     "output_type": "execute_result"
    }
   ],
   "source": [
    "list_a"
   ]
  },
  {
   "cell_type": "code",
   "execution_count": 23,
   "metadata": {},
   "outputs": [],
   "source": [
    "list_b = [1,5,'v']            #กำหนดชื่อให้ list_b เก็บสมาชิก 1, 5 และ'v' โดย list สามารถเก็บสมาชิกที่เป็น character ได้"
   ]
  },
  {
   "cell_type": "code",
   "execution_count": 24,
   "metadata": {},
   "outputs": [
    {
     "name": "stdout",
     "output_type": "stream",
     "text": [
      "[1, 5, 'v']\n"
     ]
    }
   ],
   "source": [
    "print(list_b)"
   ]
  },
  {
   "cell_type": "markdown",
   "metadata": {},
   "source": [
    "#### โดยการเรียกดูสามารถพิมพ์ชื่อ list หรือ จะพิมพ์ print(ชื่อ list) ก็ได้เช่นกัน"
   ]
  },
  {
   "cell_type": "markdown",
   "metadata": {},
   "source": [
    "## List construction method 2"
   ]
  },
  {
   "cell_type": "code",
   "execution_count": 25,
   "metadata": {},
   "outputs": [],
   "source": [
    "list_c = list()            #คำสั่งนี้ คือ คำสั่งในการสร้าง list เปล่าขึ้นมา 1 list หรือหมายความว่าใน list นี้มีสมาชิกศูนย์ตัว"
   ]
  },
  {
   "cell_type": "code",
   "execution_count": 26,
   "metadata": {},
   "outputs": [
    {
     "data": {
      "text/plain": [
       "[]"
      ]
     },
     "execution_count": 26,
     "metadata": {},
     "output_type": "execute_result"
    }
   ],
   "source": [
    "list_c"
   ]
  },
  {
   "cell_type": "markdown",
   "metadata": {},
   "source": [
    "#### สิ่งที่ตามมาจากเรื่อง list คือเรือง loop"
   ]
  },
  {
   "cell_type": "markdown",
   "metadata": {},
   "source": [
    "## append() คือ คำสั่งที่ใช้เพิ่มสมาชิกใน list"
   ]
  },
  {
   "cell_type": "code",
   "execution_count": 28,
   "metadata": {},
   "outputs": [
    {
     "name": "stdout",
     "output_type": "stream",
     "text": [
      "['u', 'u']\n"
     ]
    }
   ],
   "source": [
    "list_c.append('u')            #ต้องการเพิ่ม 'u' ลงใน list_c ที่ยังว่างอยู่ จึงใช้คำสั่ง list_c.append('u')  และเรียกดู list_c\n",
    "print(list_c)            #ข้อควรระวัง คำสั่ง append() จะเพิ่มจำนวนตามคำสั่ง run ดังเช่นตัวอย่างผลที่ออกมา พบว่ามี 'u' 2ตัว นั่นเพราะว่าในคำสั่งเดิม run 2 รอบ"
   ]
  },
  {
   "cell_type": "code",
   "execution_count": 29,
   "metadata": {},
   "outputs": [
    {
     "data": {
      "text/plain": [
       "'u'"
      ]
     },
     "execution_count": 29,
     "metadata": {},
     "output_type": "execute_result"
    }
   ],
   "source": [
    "list_c.pop()            #หากต้องการนำตัวแปรที่เกินออก สามารถใช้คำสั่ง pop() เพื่อทำการนำออก แต่เป็นเพียงแค่การนำตัวสุดท้ายของ list ออกเท่านั้น ซึ่งคำสั่งนี้ไม่แนะนำให้ใช้บ่อย เพราะจะทำให้เกิดความสับสน"
   ]
  },
  {
   "cell_type": "code",
   "execution_count": 30,
   "metadata": {},
   "outputs": [
    {
     "name": "stdout",
     "output_type": "stream",
     "text": [
      "['u', 'a']\n"
     ]
    }
   ],
   "source": [
    "list_c.append('a')            #เพิ่ม 'a' ลงไปใน list_c\n",
    "print(list_c)            #จะเห็นว่า 'a' ถูกเพิ่มลงไปเป็นสมาชิกตัวท้ายสุด หรือเรียกว่าเป็นตัวสุดท้ายของ list"
   ]
  },
  {
   "cell_type": "markdown",
   "metadata": {},
   "source": [
    "### Data Structure อีกตัวที่เกี่ยวกับ list คือ String"
   ]
  },
  {
   "cell_type": "markdown",
   "metadata": {},
   "source": [
    "###  String คือ list ของ character หรืออีกความหมาย คือ list ของตัวอักษร"
   ]
  },
  {
   "cell_type": "code",
   "execution_count": 31,
   "metadata": {},
   "outputs": [
    {
     "data": {
      "text/plain": [
       "'python is easy'"
      ]
     },
     "execution_count": 31,
     "metadata": {},
     "output_type": "execute_result"
    }
   ],
   "source": [
    "t = 'python is easy'\n",
    "t                                        #วิธีการสร้าง string จะเหมือนวิธีการสร้าง character คือ ต้องมี ' '  หรือ\" \" ครอบตัวอักษรไว้"
   ]
  },
  {
   "cell_type": "code",
   "execution_count": 33,
   "metadata": {},
   "outputs": [
    {
     "data": {
      "text/plain": [
       "14"
      ]
     },
     "execution_count": 33,
     "metadata": {},
     "output_type": "execute_result"
    }
   ],
   "source": [
    "len(t)                         #คำสั่ง len() เป็นคำสั่งที่ใช้นับจำนวนสมาชิกใน string ให้โดยที่ไม่ต้องนับเอง    "
   ]
  },
  {
   "cell_type": "markdown",
   "metadata": {},
   "source": [
    "### access a member of list (list & string)"
   ]
  },
  {
   "cell_type": "code",
   "execution_count": 34,
   "metadata": {},
   "outputs": [
    {
     "data": {
      "text/plain": [
       "'y'"
      ]
     },
     "execution_count": 34,
     "metadata": {},
     "output_type": "execute_result"
    }
   ],
   "source": [
    "t[1]                #เมื่อต้องการทราบว่าสมาชิกตัวที่ 1 ของ list & string คืออะไร สามารถใช้คำสั่ง t[1] เพื่อเรียกดูสมาชิกตัวที่ 1 ของ list & string ชื่อ t"
   ]
  },
  {
   "cell_type": "code",
   "execution_count": 35,
   "metadata": {},
   "outputs": [
    {
     "data": {
      "text/plain": [
       "'h'"
      ]
     },
     "execution_count": 35,
     "metadata": {},
     "output_type": "execute_result"
    }
   ],
   "source": [
    "t[3]              #ต้องการทราบสมาชิกตัวที่ 3 ของ list & string ชื่อ t "
   ]
  },
  {
   "cell_type": "markdown",
   "metadata": {},
   "source": [
    "#### โดยจะเห็นได้ว่าการลำดับสมาชิกจะเริ่มจากหลังมาหน้า"
   ]
  },
  {
   "cell_type": "markdown",
   "metadata": {},
   "source": [
    "### ต้องการทราบสมาชิกตัวที่ 0 หรือเป็นสมาชิกตัวแรกของ list & string ชื่อ t "
   ]
  },
  {
   "cell_type": "code",
   "execution_count": 36,
   "metadata": {},
   "outputs": [
    {
     "data": {
      "text/plain": [
       "'p'"
      ]
     },
     "execution_count": 36,
     "metadata": {},
     "output_type": "execute_result"
    }
   ],
   "source": [
    "t[0]"
   ]
  },
  {
   "cell_type": "markdown",
   "metadata": {},
   "source": [
    "### ต้องการทราบสมาชิกตัวสุดท้ายของ list & string ชื่อ t"
   ]
  },
  {
   "cell_type": "code",
   "execution_count": 37,
   "metadata": {},
   "outputs": [
    {
     "data": {
      "text/plain": [
       "'y'"
      ]
     },
     "execution_count": 37,
     "metadata": {},
     "output_type": "execute_result"
    }
   ],
   "source": [
    "t[len(t)-1]"
   ]
  },
  {
   "cell_type": "markdown",
   "metadata": {},
   "source": [
    "#### ข้อควรระวัง วงเล็บของ list & string ที่ใช้ชี้ index เป็น [] แต่วงเล็บของคำสั่ง len จะเป็น () ซึ่งความหมายของ () แปลว่า ตัวที่อยู่ข้างหน้าเป็น function"
   ]
  },
  {
   "cell_type": "markdown",
   "metadata": {},
   "source": [
    "### ตัวที่ใช้บ่อยๆอีกตัวหนึ่งเมื่อต้องการทราบสมาชิกตัวสุดท้ายของ list & string"
   ]
  },
  {
   "cell_type": "code",
   "execution_count": 38,
   "metadata": {},
   "outputs": [
    {
     "data": {
      "text/plain": [
       "'y'"
      ]
     },
     "execution_count": 38,
     "metadata": {},
     "output_type": "execute_result"
    }
   ],
   "source": [
    "t[-1]"
   ]
  },
  {
   "cell_type": "markdown",
   "metadata": {},
   "source": [
    "### เมื่อต้องการทราบตัวที่ 2 จากข้างหลังของ list & string"
   ]
  },
  {
   "cell_type": "code",
   "execution_count": 39,
   "metadata": {},
   "outputs": [
    {
     "data": {
      "text/plain": [
       "'s'"
      ]
     },
     "execution_count": 39,
     "metadata": {},
     "output_type": "execute_result"
    }
   ],
   "source": [
    "t[-2]"
   ]
  },
  {
   "cell_type": "markdown",
   "metadata": {},
   "source": [
    "## exceed index of the list\n",
    "### เมื่อลองใส่ index ที่เกินจำนวนของ list & string ที่มีอยู่"
   ]
  },
  {
   "cell_type": "code",
   "execution_count": 40,
   "metadata": {},
   "outputs": [
    {
     "ename": "IndexError",
     "evalue": "string index out of range",
     "output_type": "error",
     "traceback": [
      "\u001b[1;31m---------------------------------------------------------------------------\u001b[0m",
      "\u001b[1;31mIndexError\u001b[0m                                Traceback (most recent call last)",
      "\u001b[1;32m<ipython-input-40-c34723661709>\u001b[0m in \u001b[0;36m<module>\u001b[1;34m\u001b[0m\n\u001b[1;32m----> 1\u001b[1;33m \u001b[0mt\u001b[0m\u001b[1;33m[\u001b[0m\u001b[1;36m15\u001b[0m\u001b[1;33m]\u001b[0m\u001b[1;33m\u001b[0m\u001b[1;33m\u001b[0m\u001b[0m\n\u001b[0m",
      "\u001b[1;31mIndexError\u001b[0m: string index out of range"
     ]
    }
   ],
   "source": [
    "t[15]             #พบว่าผล run เป็น error โดยมีคำอธิบายว่า index ของ string เกินจำนวนของสมาชิกที่มีอยู่"
   ]
  },
  {
   "cell_type": "markdown",
   "metadata": {},
   "source": [
    "## list slicing [:] คือ การเฉือน"
   ]
  },
  {
   "cell_type": "markdown",
   "metadata": {},
   "source": [
    "### ใส่ตัวเลขหลัง : คือเอาตั้งแต่ตัวแรกถึงตัวที่ใส่เลข และถ้าใส่ตัวเลขหน้า : คือเอาตั้งแต่ตัวสุดท้ายนับถอยลงมาถึงตัวเลขที่ใส่"
   ]
  },
  {
   "cell_type": "code",
   "execution_count": 41,
   "metadata": {},
   "outputs": [
    {
     "data": {
      "text/plain": [
       "'python'"
      ]
     },
     "execution_count": 41,
     "metadata": {},
     "output_type": "execute_result"
    }
   ],
   "source": [
    "t[:6]             #เมื่อต้องการสมาชิก 6 ตัวแรก ทำได้โดยการใส่เลขหลัง :"
   ]
  },
  {
   "cell_type": "code",
   "execution_count": 42,
   "metadata": {},
   "outputs": [
    {
     "data": {
      "text/plain": [
       "'easy'"
      ]
     },
     "execution_count": 42,
     "metadata": {},
     "output_type": "execute_result"
    }
   ],
   "source": [
    "t[-4:]          #เมื่อต้องการสมาชิก 4 ตัวสุดท้าย ทำได้โดยการใส่ตัวเลขหน้า : และเพื่อทำให้เข้าใจง่ายขึ้นว่านับตั้งแต่ข้างหลังลงมาจึงใส่เครื่องหมายติดลบหน้าเลข"
   ]
  },
  {
   "cell_type": "markdown",
   "metadata": {},
   "source": [
    "## [a:b] -> [a,b]"
   ]
  },
  {
   "cell_type": "code",
   "execution_count": 43,
   "metadata": {},
   "outputs": [
    {
     "data": {
      "text/plain": [
       "'is'"
      ]
     },
     "execution_count": 43,
     "metadata": {},
     "output_type": "execute_result"
    }
   ],
   "source": [
    "t[7:9]          #เมื่อต้องการตัวที่อยู่ระหว่างกลาง ทำได้โดยพิมพ์ลำดับตัวที่ต้องการจนถึงตัวที่จะตัดทิ้ง เช่น ต้องการตัวที่ 7 ถึงตัวที่ 8 และตัดตั้งแต่ตัวที่ 9 ทิ้งทั้งหมด ซึ่งต้องพิมพ์ [7:9] "
   ]
  },
  {
   "cell_type": "markdown",
   "metadata": {},
   "source": [
    "## functions for string"
   ]
  },
  {
   "cell_type": "code",
   "execution_count": 44,
   "metadata": {},
   "outputs": [
    {
     "data": {
      "text/plain": [
       "'python is easy??'"
      ]
     },
     "execution_count": 44,
     "metadata": {},
     "output_type": "execute_result"
    }
   ],
   "source": [
    "t + '??'          #ใช้เครื่องหมาย + เพื่อนำ string มาต่อกับ string"
   ]
  },
  {
   "cell_type": "code",
   "execution_count": 45,
   "metadata": {},
   "outputs": [
    {
     "data": {
      "text/plain": [
       "['python', 'is', 'easy']"
      ]
     },
     "execution_count": 45,
     "metadata": {},
     "output_type": "execute_result"
    }
   ],
   "source": [
    "t.split(' ')         #ใช้คำสั่ง split() เมื่อต้องการแบ่ง string เป็นส่วนๆ หากต้องการให้แต่ละส่วนใส่ ' ' ครอบไว้ ทำได้โดยการใส่ ' ' ลงใน ()"
   ]
  },
  {
   "cell_type": "markdown",
   "metadata": {},
   "source": [
    "## Data Structure อีกตัวหนึ่งมีชื่อว่า Dictionary {curly brackets}"
   ]
  },
  {
   "cell_type": "markdown",
   "metadata": {},
   "source": [
    "#### Dictionary กับ List มีความแตกต่างตรงที่ List มี index เป็นตัวเลข แต่ index ของ Dictionary จะเป็นอะไรก็ได้"
   ]
  },
  {
   "cell_type": "code",
   "execution_count": 47,
   "metadata": {},
   "outputs": [],
   "source": [
    "dict_a = {}           #ทำการสร้าง Dictionary ด้วยหน้าตาของ curly brackets จะได้ผล run ออกมาเป็น dict เปล่าๆ"
   ]
  },
  {
   "cell_type": "code",
   "execution_count": 48,
   "metadata": {},
   "outputs": [
    {
     "data": {
      "text/plain": [
       "{}"
      ]
     },
     "execution_count": 48,
     "metadata": {},
     "output_type": "execute_result"
    }
   ],
   "source": [
    "dict_a"
   ]
  },
  {
   "cell_type": "code",
   "execution_count": 49,
   "metadata": {},
   "outputs": [],
   "source": [
    "dict_b = {1:5,'c':7,'d':9}         #สร้าง Dictionary ทีมีสมาชิกอยู่ภายใน ซึ่งตัวข้างหน้า : จะเป็น index ซึ่งจะแปลได้ว่า 1 คือ 5 เป็นต้น"
   ]
  },
  {
   "cell_type": "code",
   "execution_count": 50,
   "metadata": {},
   "outputs": [
    {
     "data": {
      "text/plain": [
       "5"
      ]
     },
     "execution_count": 50,
     "metadata": {},
     "output_type": "execute_result"
    }
   ],
   "source": [
    "dict_b[1]            #เมื่อต้องการผล run คือ ค่า 5 สามารถทำโดยพิมพ์ index ของค่า 5 ลงไปใน [] หรือเมื่อต้องการทราบว่า index น้้นๆมีค่าคืออะไร"
   ]
  },
  {
   "cell_type": "code",
   "execution_count": 51,
   "metadata": {},
   "outputs": [
    {
     "data": {
      "text/plain": [
       "7"
      ]
     },
     "execution_count": 51,
     "metadata": {},
     "output_type": "execute_result"
    }
   ],
   "source": [
    "dict_b['c']"
   ]
  },
  {
   "cell_type": "code",
   "execution_count": 52,
   "metadata": {},
   "outputs": [
    {
     "data": {
      "text/plain": [
       "{1: 5, 'c': 7, 'd': 9}"
      ]
     },
     "execution_count": 52,
     "metadata": {},
     "output_type": "execute_result"
    }
   ],
   "source": [
    "dict_b              #เรียกดูโครงสร้างของ dict ที่ต้องการ"
   ]
  },
  {
   "cell_type": "markdown",
   "metadata": {},
   "source": [
    "## ทั้ง Dictionary และ List สามารถสร้างซ้อนทับกันหลายชั้นได้"
   ]
  },
  {
   "cell_type": "markdown",
   "metadata": {},
   "source": [
    "### add a member to a dict วิธีเพิ่มสมาชิกลงใน dict"
   ]
  },
  {
   "cell_type": "code",
   "execution_count": 53,
   "metadata": {},
   "outputs": [],
   "source": [
    "dict_b['stat'] = [1,2]             #เมื่อต้องการเพิ่มสมาชิกที่ dict_b โดยให้ index เป็น 'stat' มีค่าคือ [1,2] "
   ]
  },
  {
   "cell_type": "code",
   "execution_count": 54,
   "metadata": {},
   "outputs": [
    {
     "data": {
      "text/plain": [
       "{1: 5, 'c': 7, 'd': 9, 'stat': [1, 2]}"
      ]
     },
     "execution_count": 54,
     "metadata": {},
     "output_type": "execute_result"
    }
   ],
   "source": [
    "dict_b"
   ]
  },
  {
   "cell_type": "code",
   "execution_count": 55,
   "metadata": {},
   "outputs": [],
   "source": [
    "dict_b['si'] = {1:'a','2':'b'}"
   ]
  },
  {
   "cell_type": "code",
   "execution_count": 56,
   "metadata": {},
   "outputs": [
    {
     "data": {
      "text/plain": [
       "{1: 5, 'c': 7, 'd': 9, 'stat': [1, 2], 'si': {1: 'a', '2': 'b'}}"
      ]
     },
     "execution_count": 56,
     "metadata": {},
     "output_type": "execute_result"
    }
   ],
   "source": [
    "dict_b"
   ]
  },
  {
   "cell_type": "code",
   "execution_count": 57,
   "metadata": {},
   "outputs": [
    {
     "data": {
      "text/plain": [
       "'a'"
      ]
     },
     "execution_count": 57,
     "metadata": {},
     "output_type": "execute_result"
    }
   ],
   "source": [
    "dict_b['si'][1]          #เมื่อต้องการค่าผล run เป็น a ทำได้โดยการพิมพ์ si ที่เป็นตัวเก็บสมาชิก index ที่มีค่าที่ต้องการลงใน [] ก่อน และซ้อนด้วย index ของค่า a ลงใน [] "
   ]
  },
  {
   "cell_type": "markdown",
   "metadata": {},
   "source": [
    "# Homework\n",
    "## คำนวณเวลาเป็น วินาที ของเวลาต่อไปนี้โดยใช้คำสั่ง split() ช่วย\n",
    "## 12:30:15\n",
    "## 13:41:07\n",
    "## 12:53:15\n",
    "## 00:59:25\n",
    "## 11:11:11\n",
    "## 16:06:09"
   ]
  },
  {
   "cell_type": "code",
   "execution_count": 20,
   "metadata": {},
   "outputs": [
    {
     "name": "stdout",
     "output_type": "stream",
     "text": [
      "45015\n",
      "49267\n",
      "46395\n",
      "3565\n",
      "40271\n",
      "57969\n"
     ]
    }
   ],
   "source": [
    "def  print_time(time_second):\n",
    "        print_time1 = time_second.split(':')\n",
    "        print_time2 = (int(print_time1[0])*3600)+(int(print_time1[1])*60)+(int(print_time1[2]))  \n",
    "        print(print_time2)\n",
    "print_time('12:30:15')\n",
    "print_time('13:41:07')\n",
    "print_time('12:53:15')\n",
    "print_time('00:59:25')\n",
    "print_time('11:11:11')\n",
    "print_time('16:06:09')"
   ]
  },
  {
   "cell_type": "code",
   "execution_count": null,
   "metadata": {},
   "outputs": [],
   "source": []
  }
 ],
 "metadata": {
  "kernelspec": {
   "display_name": "Python 3",
   "language": "python",
   "name": "python3"
  },
  "language_info": {
   "codemirror_mode": {
    "name": "ipython",
    "version": 3
   },
   "file_extension": ".py",
   "mimetype": "text/x-python",
   "name": "python",
   "nbconvert_exporter": "python",
   "pygments_lexer": "ipython3",
   "version": "3.7.4"
  }
 },
 "nbformat": 4,
 "nbformat_minor": 2
}
