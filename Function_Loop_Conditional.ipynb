{
 "cells": [
  {
   "cell_type": "markdown",
   "metadata": {},
   "source": [
    "# Function ในการเขียนโปรแกรมคอมพิวเตอร์ เปรียบเสมือนคำสั่งพิเศษช่วยให้สามารถทำงานเฉพาะเจาะจงอย่างหนึ่งได้ อาทิเช่น math , print , input เป็นต้น\n",
    "#### print ชื่อ XXX นามสกุล YYY รหัส ZZZ\n",
    "#### print เกรดวิชา Stat1 >>> AAA"
   ]
  },
  {
   "cell_type": "code",
   "execution_count": 1,
   "metadata": {},
   "outputs": [
    {
     "name": "stdout",
     "output_type": "stream",
     "text": [
      "ชื่อ มุทิตา นามสกุล บุตะเขียว รหัส 603021882-9\n"
     ]
    }
   ],
   "source": [
    "a = 'ชื่อ มุทิตา นามสกุล บุตะเขียว รหัส 603021882-9'\n",
    "print(a)"
   ]
  },
  {
   "cell_type": "code",
   "execution_count": 2,
   "metadata": {},
   "outputs": [
    {
     "name": "stdout",
     "output_type": "stream",
     "text": [
      "ชื่อ มุทิตา นามสกุล บุตะเขียว รหัส 603021882-9\n"
     ]
    }
   ],
   "source": [
    "name = 'มุทิตา'\n",
    "surname = 'บุตะเขียว'\n",
    "ID = '603021882-9'\n",
    "b = f'ชื่อ {name} นามสกุล {surname} รหัส {ID}'\n",
    "print(b)"
   ]
  },
  {
   "cell_type": "markdown",
   "metadata": {},
   "source": [
    "## function template\n",
    "``` python\n",
    "def function_name(x):\n",
    "        do_something\n",
    "         return y\n",
    "```"
   ]
  },
  {
   "cell_type": "markdown",
   "metadata": {},
   "source": [
    "## normal function"
   ]
  },
  {
   "cell_type": "code",
   "execution_count": 3,
   "metadata": {},
   "outputs": [],
   "source": [
    "def  print_line1(name1, surname1,ID1):\n",
    "        st = f'ชื่อ {name1} นามสกุล {surname1} รหัส {ID1}'\n",
    "        return st"
   ]
  },
  {
   "cell_type": "code",
   "execution_count": 4,
   "metadata": {},
   "outputs": [
    {
     "name": "stdout",
     "output_type": "stream",
     "text": [
      "ชื่อ มุทิตา นามสกุล บุตะเขียว รหัส 603021882-9\n"
     ]
    }
   ],
   "source": [
    "print(print_line1('มุทิตา','บุตะเขียว','603021882-9'))"
   ]
  },
  {
   "cell_type": "markdown",
   "metadata": {},
   "source": [
    "## function without output "
   ]
  },
  {
   "cell_type": "code",
   "execution_count": 5,
   "metadata": {},
   "outputs": [],
   "source": [
    "def  print_2lines(name1, surname1,ID1,grade):\n",
    "        st = f'ชื่อ {name1} นามสกุล {surname1} รหัส {ID1}'\n",
    "        print(st)\n",
    "        st2 = f'เกรดวิชา Stat1 >>> {grade}'\n",
    "        print(st2)"
   ]
  },
  {
   "cell_type": "code",
   "execution_count": 6,
   "metadata": {},
   "outputs": [
    {
     "name": "stdout",
     "output_type": "stream",
     "text": [
      "ชื่อ มุทิตา นามสกุล บุตะเขียว รหัส 603021882-9\n",
      "เกรดวิชา Stat1 >>> A\n"
     ]
    }
   ],
   "source": [
    "print_2lines('มุทิตา','บุตะเขียว','603021882-9','A')"
   ]
  },
  {
   "cell_type": "code",
   "execution_count": 7,
   "metadata": {},
   "outputs": [
    {
     "name": "stdout",
     "output_type": "stream",
     "text": [
      "ชื่อ มุทิตา นามสกุล บุตะเขียว รหัส 603021882-9\n",
      "เกรดวิชา Stat1 >>> A\n",
      "ชื่อ จันทราภรณ์ นามสกุล สมสวย รหัส 603021857-8\n",
      "เกรดวิชา Stat1 >>> A\n",
      "ชื่อ พันทิพา นามสกุล มุขกัง รหัส 603021876-4\n",
      "เกรดวิชา Stat1 >>> A\n"
     ]
    }
   ],
   "source": [
    "def  print_3lines(name1, surname1,ID1,grade):\n",
    "        st = f'ชื่อ {name1} นามสกุล {surname1} รหัส {ID1}'\n",
    "        print(st)\n",
    "        st2 = f'เกรดวิชา Stat1 >>> {grade}'\n",
    "        print(st2)\n",
    "print_3lines('มุทิตา','บุตะเขียว','603021882-9','A')\n",
    "print_3lines('จันทราภรณ์','สมสวย','603021857-8','A')\n",
    "print_3lines('พันทิพา','มุขกัง','603021876-4','A')"
   ]
  },
  {
   "cell_type": "markdown",
   "metadata": {},
   "source": [
    "## Example of an Error "
   ]
  },
  {
   "cell_type": "markdown",
   "metadata": {},
   "source": [
    "### ย่อหน้าไม่ตรงกัน"
   ]
  },
  {
   "cell_type": "code",
   "execution_count": 9,
   "metadata": {},
   "outputs": [
    {
     "ename": "IndentationError",
     "evalue": "unexpected indent (<ipython-input-9-5a60eac2ff68>, line 5)",
     "output_type": "error",
     "traceback": [
      "\u001b[1;36m  File \u001b[1;32m\"<ipython-input-9-5a60eac2ff68>\"\u001b[1;36m, line \u001b[1;32m5\u001b[0m\n\u001b[1;33m    print(st2)                                                   #ความหมายของ error นี้คือการเว้นวรรคผิดตำแหน่งหรือย่อตำแหน่งที่ไม่เท่ากัน\u001b[0m\n\u001b[1;37m    ^\u001b[0m\n\u001b[1;31mIndentationError\u001b[0m\u001b[1;31m:\u001b[0m unexpected indent\n"
     ]
    }
   ],
   "source": [
    "def  print_2lines(name1, surname1,ID1,grade):\n",
    "        st = f'ชื่อ {name1} นามสกุล {surname1} รหัส {ID1}'\n",
    "        print(st)\n",
    "        st2 = f'เกรดวิชา Stat1 >>> {grade}'\n",
    "         print(st2)                                                   #ความหมายของ error นี้คือการเว้นวรรคผิดตำแหน่งหรือย่อตำแหน่งที่ไม่เท่ากัน"
   ]
  },
  {
   "cell_type": "markdown",
   "metadata": {},
   "source": [
    "### คำสั่งต่างๆหลัง return จะไม่ถูกทำงาน"
   ]
  },
  {
   "cell_type": "code",
   "execution_count": 10,
   "metadata": {},
   "outputs": [
    {
     "data": {
      "text/plain": [
       "'ชื่อ มุทิตา นามสกุล บุตะเขียว รหัส 603021882-9'"
      ]
     },
     "execution_count": 10,
     "metadata": {},
     "output_type": "execute_result"
    }
   ],
   "source": [
    "def  print_2lines(name1, surname1,ID1,grade):\n",
    "        st = f'ชื่อ {name1} นามสกุล {surname1} รหัส {ID1}'\n",
    "        return(st)\n",
    "        st2 = f'เกรดวิชา Stat1 >>> {grade}'\n",
    "        print(st2)\n",
    "print_2lines('มุทิตา','บุตะเขียว','603021882-9','A')"
   ]
  },
  {
   "cell_type": "markdown",
   "metadata": {},
   "source": [
    "## function without input"
   ]
  },
  {
   "cell_type": "code",
   "execution_count": 11,
   "metadata": {},
   "outputs": [],
   "source": [
    "def two_x_three():\n",
    "        x = 2*3\n",
    "        return x"
   ]
  },
  {
   "cell_type": "code",
   "execution_count": 12,
   "metadata": {},
   "outputs": [
    {
     "data": {
      "text/plain": [
       "6"
      ]
     },
     "execution_count": 12,
     "metadata": {},
     "output_type": "execute_result"
    }
   ],
   "source": [
    "two_x_three()"
   ]
  },
  {
   "cell_type": "markdown",
   "metadata": {},
   "source": [
    "## function with default argument"
   ]
  },
  {
   "cell_type": "code",
   "execution_count": 13,
   "metadata": {},
   "outputs": [],
   "source": [
    "def  print_2lines_default(name1, surname1,ID1,grade='F'):\n",
    "        st = f'ชื่อ {name1} นามสกุล {surname1} รหัส {ID1}'\n",
    "        print(st)\n",
    "        st2 = f'เกรดวิชา Stat1 >>> {grade}'\n",
    "        print(st2)"
   ]
  },
  {
   "cell_type": "code",
   "execution_count": 14,
   "metadata": {},
   "outputs": [
    {
     "name": "stdout",
     "output_type": "stream",
     "text": [
      "ชื่อ มุทิตา นามสกุล บุตะเขียว รหัส 603021882-9\n",
      "เกรดวิชา Stat1 >>> F\n"
     ]
    }
   ],
   "source": [
    "print_2lines_default('มุทิตา','บุตะเขียว','603021882-9')"
   ]
  },
  {
   "cell_type": "code",
   "execution_count": 15,
   "metadata": {},
   "outputs": [
    {
     "name": "stdout",
     "output_type": "stream",
     "text": [
      "ชื่อ มุทิตา นามสกุล บุตะเขียว รหัส 603021882-9\n",
      "เกรดวิชา Stat1 >>> A+\n"
     ]
    }
   ],
   "source": [
    "print_2lines_default('มุทิตา','บุตะเขียว','603021882-9','A+')"
   ]
  },
  {
   "cell_type": "code",
   "execution_count": 16,
   "metadata": {},
   "outputs": [
    {
     "name": "stdout",
     "output_type": "stream",
     "text": [
      "ชื่อ บุตะเขียว นามสกุล มุทิตา รหัส 603021882-9\n",
      "เกรดวิชา Stat1 >>> F\n"
     ]
    }
   ],
   "source": [
    "print_2lines_default(surname1 = 'มุทิตา', name1 = 'บุตะเขียว', ID1 = '603021882-9')"
   ]
  },
  {
   "cell_type": "markdown",
   "metadata": {},
   "source": [
    "# Loop"
   ]
  },
  {
   "cell_type": "markdown",
   "metadata": {},
   "source": [
    "```Python\n",
    "for each_member in listA:\n",
    "    do something\n",
    "```"
   ]
  },
  {
   "cell_type": "markdown",
   "metadata": {},
   "source": [
    "### วนลูปสมาชิกแต่ละตัวที่อยู่ในลิสนี้"
   ]
  },
  {
   "cell_type": "code",
   "execution_count": 17,
   "metadata": {},
   "outputs": [
    {
     "name": "stdout",
     "output_type": "stream",
     "text": [
      "1\n",
      "2\n",
      "3\n"
     ]
    }
   ],
   "source": [
    "for i in [1,2,3]:\n",
    "    print(i)"
   ]
  },
  {
   "cell_type": "markdown",
   "metadata": {},
   "source": [
    "### print แต่ละตัว"
   ]
  },
  {
   "cell_type": "code",
   "execution_count": 18,
   "metadata": {},
   "outputs": [
    {
     "name": "stdout",
     "output_type": "stream",
     "text": [
      "M -> /\n",
      "u -> /\n",
      "t -> /\n",
      "i -> /\n",
      "t -> /\n",
      "a -> /\n"
     ]
    }
   ],
   "source": [
    "for i in 'Mutita':\n",
    "    print(f'{i} -> /')"
   ]
  },
  {
   "cell_type": "markdown",
   "metadata": {},
   "source": [
    "### print แต่ละตัวให้เว้นช่องว่าง"
   ]
  },
  {
   "cell_type": "code",
   "execution_count": 21,
   "metadata": {},
   "outputs": [
    {
     "name": "stdout",
     "output_type": "stream",
     "text": [
      "M -> /\n",
      " \n",
      "u -> /\n",
      " \n",
      "t -> /\n",
      " \n",
      "i -> /\n",
      " \n",
      "t -> /\n",
      " \n",
      "a -> /\n",
      " \n"
     ]
    }
   ],
   "source": [
    "for i in 'Mutita':\n",
    "    print(f'{i} -> /')\n",
    "    print(' ')"
   ]
  },
  {
   "cell_type": "markdown",
   "metadata": {},
   "source": [
    "## function in loop"
   ]
  },
  {
   "cell_type": "markdown",
   "metadata": {},
   "source": [
    "#### 1.สร้าง list ชื่อเพื่อนที่อยู๋ในแถวยาวเดียวกัน\n",
    "#### 2.วนลูป print ประโยคว่า XXX(เรา) YYY(ความรู้สึก) ZZZ(เพื่อน) ทุกคนในแถวยาว 1 แถว"
   ]
  },
  {
   "cell_type": "code",
   "execution_count": 24,
   "metadata": {},
   "outputs": [],
   "source": [
    "def print_feeling(I,feeling,honey):\n",
    "        print(f'{I} {feeling} {honey}')"
   ]
  },
  {
   "cell_type": "code",
   "execution_count": 25,
   "metadata": {},
   "outputs": [],
   "source": [
    "honey = ['Ha Yoonbin', 'Park Chaeyoung', 'Do Kyungsoo', 'Lee Sungyeol', 'Kim Taehyung', 'Kim Sunggyu', 'Khaiping']"
   ]
  },
  {
   "cell_type": "code",
   "execution_count": 26,
   "metadata": {},
   "outputs": [
    {
     "name": "stdout",
     "output_type": "stream",
     "text": [
      "Bam fall in love with Ha Yoonbin\n",
      "Bam fall in love with Park Chaeyoung\n",
      "Bam fall in love with Do Kyungsoo\n",
      "Bam fall in love with Lee Sungyeol\n",
      "Bam fall in love with Kim Taehyung\n",
      "Bam fall in love with Kim Sunggyu\n",
      "Bam fall in love with Khaiping\n"
     ]
    }
   ],
   "source": [
    "for f in honey:\n",
    "    print_feeling('Bam','fall in love with',f)"
   ]
  },
  {
   "cell_type": "markdown",
   "metadata": {},
   "source": [
    "## loop in loop"
   ]
  },
  {
   "cell_type": "markdown",
   "metadata": {},
   "source": [
    "#### กำหนดให้วนลูปในตัวเอง โดยมีความรู้สึกต่อตนเอง"
   ]
  },
  {
   "cell_type": "code",
   "execution_count": 27,
   "metadata": {},
   "outputs": [
    {
     "name": "stdout",
     "output_type": "stream",
     "text": [
      "Ha Yoonbin fall in love with Ha Yoonbin\n",
      "Ha Yoonbin fall in love with Park Chaeyoung\n",
      "Ha Yoonbin fall in love with Do Kyungsoo\n",
      "Ha Yoonbin fall in love with Lee Sungyeol\n",
      "Ha Yoonbin fall in love with Kim Taehyung\n",
      "Ha Yoonbin fall in love with Kim Sunggyu\n",
      "Ha Yoonbin fall in love with Khaiping\n",
      "Park Chaeyoung fall in love with Ha Yoonbin\n",
      "Park Chaeyoung fall in love with Park Chaeyoung\n",
      "Park Chaeyoung fall in love with Do Kyungsoo\n",
      "Park Chaeyoung fall in love with Lee Sungyeol\n",
      "Park Chaeyoung fall in love with Kim Taehyung\n",
      "Park Chaeyoung fall in love with Kim Sunggyu\n",
      "Park Chaeyoung fall in love with Khaiping\n",
      "Do Kyungsoo fall in love with Ha Yoonbin\n",
      "Do Kyungsoo fall in love with Park Chaeyoung\n",
      "Do Kyungsoo fall in love with Do Kyungsoo\n",
      "Do Kyungsoo fall in love with Lee Sungyeol\n",
      "Do Kyungsoo fall in love with Kim Taehyung\n",
      "Do Kyungsoo fall in love with Kim Sunggyu\n",
      "Do Kyungsoo fall in love with Khaiping\n",
      "Lee Sungyeol fall in love with Ha Yoonbin\n",
      "Lee Sungyeol fall in love with Park Chaeyoung\n",
      "Lee Sungyeol fall in love with Do Kyungsoo\n",
      "Lee Sungyeol fall in love with Lee Sungyeol\n",
      "Lee Sungyeol fall in love with Kim Taehyung\n",
      "Lee Sungyeol fall in love with Kim Sunggyu\n",
      "Lee Sungyeol fall in love with Khaiping\n",
      "Kim Taehyung fall in love with Ha Yoonbin\n",
      "Kim Taehyung fall in love with Park Chaeyoung\n",
      "Kim Taehyung fall in love with Do Kyungsoo\n",
      "Kim Taehyung fall in love with Lee Sungyeol\n",
      "Kim Taehyung fall in love with Kim Taehyung\n",
      "Kim Taehyung fall in love with Kim Sunggyu\n",
      "Kim Taehyung fall in love with Khaiping\n",
      "Kim Sunggyu fall in love with Ha Yoonbin\n",
      "Kim Sunggyu fall in love with Park Chaeyoung\n",
      "Kim Sunggyu fall in love with Do Kyungsoo\n",
      "Kim Sunggyu fall in love with Lee Sungyeol\n",
      "Kim Sunggyu fall in love with Kim Taehyung\n",
      "Kim Sunggyu fall in love with Kim Sunggyu\n",
      "Kim Sunggyu fall in love with Khaiping\n",
      "Khaiping fall in love with Ha Yoonbin\n",
      "Khaiping fall in love with Park Chaeyoung\n",
      "Khaiping fall in love with Do Kyungsoo\n",
      "Khaiping fall in love with Lee Sungyeol\n",
      "Khaiping fall in love with Kim Taehyung\n",
      "Khaiping fall in love with Kim Sunggyu\n",
      "Khaiping fall in love with Khaiping\n"
     ]
    }
   ],
   "source": [
    "for name1 in honey:\n",
    "    for name2 in honey:\n",
    "        print_feeling(name1,'fall in love with',name2)"
   ]
  },
  {
   "cell_type": "markdown",
   "metadata": {},
   "source": [
    "## loop in function"
   ]
  },
  {
   "cell_type": "code",
   "execution_count": 28,
   "metadata": {},
   "outputs": [],
   "source": [
    "def print_feelings(I, feeling, honeys):             #print_feelings การเติม s คือการวนลูปอยู่ข้างใน\n",
    "    for f in honeys:\n",
    "        print(f'{I} {feeling} {f}')              #ตรง for f สามารถเปลี่ยนชื่อได้ เช่น จาก f เป็น friend โดยใน {f} ต้องถูกเปลี่ยนตามด้วย"
   ]
  },
  {
   "cell_type": "code",
   "execution_count": 33,
   "metadata": {},
   "outputs": [
    {
     "name": "stdout",
     "output_type": "stream",
     "text": [
      "Bam fall in love with Ha Yoonbin\n",
      "Bam fall in love with Park Chaeyoung\n",
      "Bam fall in love with Do Kyungsoo\n",
      "Bam fall in love with Lee Sungyeol\n",
      "Bam fall in love with Kim Taehyung\n",
      "Bam fall in love with Kim Sunggyu\n",
      "Bam fall in love with Khaiping\n"
     ]
    }
   ],
   "source": [
    "print_feelings('Bam','fall in love with', honey)"
   ]
  },
  {
   "cell_type": "markdown",
   "metadata": {},
   "source": [
    "## Looping in Dict"
   ]
  },
  {
   "cell_type": "code",
   "execution_count": 74,
   "metadata": {},
   "outputs": [
    {
     "data": {
      "text/plain": [
       "{'พันทิพา': 'B', 'ศุภนิตา': 'C', 'ปนัดดา': 'A', 'ทรงกรด': 'F'}"
      ]
     },
     "execution_count": 74,
     "metadata": {},
     "output_type": "execute_result"
    }
   ],
   "source": [
    "name_grade = {'พันทิพา' : 'B', 'ศุภนิตา' : 'C', 'ปนัดดา' : 'A', 'ทรงกรด' : 'F'}\n",
    "name_grade"
   ]
  },
  {
   "cell_type": "code",
   "execution_count": 75,
   "metadata": {},
   "outputs": [
    {
     "data": {
      "text/plain": [
       "'A'"
      ]
     },
     "execution_count": 75,
     "metadata": {},
     "output_type": "execute_result"
    }
   ],
   "source": [
    "name_grade['ปนัดดา']"
   ]
  },
  {
   "cell_type": "code",
   "execution_count": 77,
   "metadata": {},
   "outputs": [
    {
     "data": {
      "text/plain": [
       "dict_keys(['พันทิพา', 'ศุภนิตา', 'ปนัดดา', 'ทรงกรด'])"
      ]
     },
     "execution_count": 77,
     "metadata": {},
     "output_type": "execute_result"
    }
   ],
   "source": [
    "name_grade.keys()"
   ]
  },
  {
   "cell_type": "code",
   "execution_count": 78,
   "metadata": {},
   "outputs": [
    {
     "name": "stdout",
     "output_type": "stream",
     "text": [
      "พันทิพา ได้เกรด B\n",
      "ศุภนิตา ได้เกรด C\n",
      "ปนัดดา ได้เกรด A\n",
      "ทรงกรด ได้เกรด F\n"
     ]
    }
   ],
   "source": [
    "for i in name_grade.keys():\n",
    "    print(f' {i} ได้เกรด {name_grade[i]}')"
   ]
  },
  {
   "cell_type": "markdown",
   "metadata": {},
   "source": [
    "## Conditional"
   ]
  },
  {
   "cell_type": "markdown",
   "metadata": {},
   "source": [
    "```Python\n",
    "if condition1:\n",
    "    do something\n",
    "elif condition2:\n",
    "    do another thing\n",
    "else:\n",
    "    do ...\n",
    "```"
   ]
  },
  {
   "cell_type": "markdown",
   "metadata": {},
   "source": [
    "#### ไม่มีการแสดงความรู้สึกต่อตนเอง"
   ]
  },
  {
   "cell_type": "code",
   "execution_count": 35,
   "metadata": {},
   "outputs": [
    {
     "name": "stdout",
     "output_type": "stream",
     "text": [
      "Ha Yoonbin fall in love with Park Chaeyoung\n",
      "Ha Yoonbin fall in love with Do Kyungsoo\n",
      "Ha Yoonbin fall in love with Lee Sungyeol\n",
      "Ha Yoonbin fall in love with Kim Taehyung\n",
      "Ha Yoonbin fall in love with Kim Sunggyu\n",
      "Ha Yoonbin fall in love with Khaiping\n",
      "Park Chaeyoung fall in love with Ha Yoonbin\n",
      "Park Chaeyoung fall in love with Do Kyungsoo\n",
      "Park Chaeyoung fall in love with Lee Sungyeol\n",
      "Park Chaeyoung fall in love with Kim Taehyung\n",
      "Park Chaeyoung fall in love with Kim Sunggyu\n",
      "Park Chaeyoung fall in love with Khaiping\n",
      "Do Kyungsoo fall in love with Ha Yoonbin\n",
      "Do Kyungsoo fall in love with Park Chaeyoung\n",
      "Do Kyungsoo fall in love with Lee Sungyeol\n",
      "Do Kyungsoo fall in love with Kim Taehyung\n",
      "Do Kyungsoo fall in love with Kim Sunggyu\n",
      "Do Kyungsoo fall in love with Khaiping\n",
      "Lee Sungyeol fall in love with Ha Yoonbin\n",
      "Lee Sungyeol fall in love with Park Chaeyoung\n",
      "Lee Sungyeol fall in love with Do Kyungsoo\n",
      "Lee Sungyeol fall in love with Kim Taehyung\n",
      "Lee Sungyeol fall in love with Kim Sunggyu\n",
      "Lee Sungyeol fall in love with Khaiping\n",
      "Kim Taehyung fall in love with Ha Yoonbin\n",
      "Kim Taehyung fall in love with Park Chaeyoung\n",
      "Kim Taehyung fall in love with Do Kyungsoo\n",
      "Kim Taehyung fall in love with Lee Sungyeol\n",
      "Kim Taehyung fall in love with Kim Sunggyu\n",
      "Kim Taehyung fall in love with Khaiping\n",
      "Kim Sunggyu fall in love with Ha Yoonbin\n",
      "Kim Sunggyu fall in love with Park Chaeyoung\n",
      "Kim Sunggyu fall in love with Do Kyungsoo\n",
      "Kim Sunggyu fall in love with Lee Sungyeol\n",
      "Kim Sunggyu fall in love with Kim Taehyung\n",
      "Kim Sunggyu fall in love with Khaiping\n",
      "Khaiping fall in love with Ha Yoonbin\n",
      "Khaiping fall in love with Park Chaeyoung\n",
      "Khaiping fall in love with Do Kyungsoo\n",
      "Khaiping fall in love with Lee Sungyeol\n",
      "Khaiping fall in love with Kim Taehyung\n",
      "Khaiping fall in love with Kim Sunggyu\n"
     ]
    }
   ],
   "source": [
    "for my_name in honey:\n",
    "    for honey_name in honey:\n",
    "        if my_name != honey_name:\n",
    "            print_feeling(my_name, 'fall in love with', honey_name)"
   ]
  },
  {
   "cell_type": "code",
   "execution_count": 83,
   "metadata": {},
   "outputs": [
    {
     "name": "stdout",
     "output_type": "stream",
     "text": [
      "Yes\n"
     ]
    }
   ],
   "source": [
    "if True :\n",
    "    print('Yes')              #หากข้างหลังเป็นจริงจะทำการ print ข้างในของ if "
   ]
  },
  {
   "cell_type": "code",
   "execution_count": 84,
   "metadata": {},
   "outputs": [],
   "source": [
    "if False :\n",
    "    print('No')          #แต่ถ้าหากข้างหลังเป็นเท็จ ข้างในของ if ไม่ถูกทำงาน หรือข้างหลังเป็นอะไรก็แล้วแต่ที่เป็นเท็จมันก็จะเด้งออก"
   ]
  },
  {
   "cell_type": "markdown",
   "metadata": {},
   "source": [
    "#### หากหลัง if เป็น True จะทำข้างใน if  แต่ถ้าหากข้างหลัง if เป็น False มันก็จะเด้งออกไป โดยเมื่อเด้งออกไปแล้วและถ้าหากมี else(นอกจากนั้น) มาดักอยู่มันก็จะไปทำการเช็คใน else และค่อย print ออกมา"
   ]
  },
  {
   "cell_type": "code",
   "execution_count": 85,
   "metadata": {},
   "outputs": [
    {
     "name": "stdout",
     "output_type": "stream",
     "text": [
      "No\n"
     ]
    }
   ],
   "source": [
    "if False :\n",
    "    print('Yes')\n",
    "else:\n",
    "    print('No')"
   ]
  },
  {
   "cell_type": "markdown",
   "metadata": {},
   "source": [
    "# เครื่องหมายที่ใช้ในการเขียน Conditional"
   ]
  },
  {
   "cell_type": "markdown",
   "metadata": {},
   "source": [
    "### True กับ False แบบไม่ชัด"
   ]
  },
  {
   "cell_type": "code",
   "execution_count": 86,
   "metadata": {},
   "outputs": [
    {
     "data": {
      "text/plain": [
       "True"
      ]
     },
     "execution_count": 86,
     "metadata": {},
     "output_type": "execute_result"
    }
   ],
   "source": [
    "1 == 1"
   ]
  },
  {
   "cell_type": "code",
   "execution_count": 87,
   "metadata": {},
   "outputs": [
    {
     "name": "stdout",
     "output_type": "stream",
     "text": [
      "1=1\n"
     ]
    }
   ],
   "source": [
    "if 1 == 1:\n",
    "    print('1=1')"
   ]
  },
  {
   "cell_type": "markdown",
   "metadata": {},
   "source": [
    "### == เช็คว่าตัวข้างหน้าเท่ากับตัวข้างหลังหรือไม่ โดยเท่ากันจะตอบ True\n",
    "### != เช็คว่าตัวข้างหน้าไม่เท่ากับตัวข้างหลังหรือไม่ โดยไม่เท่ากันจะตอบ True\n",
    "### >= เช็คว่าตัวข้างหน้ามากกว่าตัวข้างหลังหรือไม่\n",
    "### <= เช็คว่าตัวข้างหน้าน้อยกว่าตัวข้างหลังหรือไม่\n",
    "### < , > ใช้ในการเช็คว่าผ่าน Conditional หรือไม่"
   ]
  },
  {
   "cell_type": "markdown",
   "metadata": {},
   "source": [
    "# Homework2\n",
    "### เขียน function ตัดเกรด โดยที่ input เป็นคะแนน(0-100) output เป็นเกรด(F-A)\n",
    "### input = [1, 50, 65, 90, 101, -5, 49]"
   ]
  },
  {
   "cell_type": "code",
   "execution_count": 75,
   "metadata": {},
   "outputs": [],
   "source": [
    "def pgrade(score_c):\n",
    "    if score_c >= 80:\n",
    "        print('score', score_c, '= A')\n",
    "    elif score_c >= 75 and score_c <= 79:\n",
    "        print('score', score_c, '= B+')\n",
    "    elif score_c >= 70 and score_c <= 74:\n",
    "        print('score', score_c, '= B')\n",
    "    elif score_c >= 65 and score_c <= 69:\n",
    "        print('score', score_c, '= C+')\n",
    "    elif score_c >= 60 and score_c <= 64:\n",
    "        print('score', score_c, '= C')\n",
    "    elif score_c >= 55 and score_c <= 59:\n",
    "        print('score', score_c, 'i= D+')\n",
    "    elif score_c >= 50 and score_c <= 54:\n",
    "        print('score', score_c, '= D')\n",
    "    elif score_c <= 49:\n",
    "        print('score', score_c, '= F')"
   ]
  },
  {
   "cell_type": "code",
   "execution_count": 76,
   "metadata": {},
   "outputs": [
    {
     "name": "stdout",
     "output_type": "stream",
     "text": [
      "score 1 = F\n",
      "score 50 = D\n",
      "score 65 = C+\n",
      "score 90 = A\n",
      "score 101 = A\n",
      "score -5 = F\n",
      "score 49 = F\n"
     ]
    }
   ],
   "source": [
    "score_gd = [1, 50, 65, 90, 101, -5, 49]\n",
    "for i in score_gd :\n",
    "    pgrade(i)"
   ]
  }
 ],
 "metadata": {
  "kernelspec": {
   "display_name": "Python 3",
   "language": "python",
   "name": "python3"
  },
  "language_info": {
   "codemirror_mode": {
    "name": "ipython",
    "version": 3
   },
   "file_extension": ".py",
   "mimetype": "text/x-python",
   "name": "python",
   "nbconvert_exporter": "python",
   "pygments_lexer": "ipython3",
   "version": "3.7.4"
  }
 },
 "nbformat": 4,
 "nbformat_minor": 2
}
