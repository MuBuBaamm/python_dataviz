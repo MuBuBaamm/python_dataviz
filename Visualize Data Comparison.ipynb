{
 "cells": [
  {
   "cell_type": "code",
   "execution_count": 1,
   "metadata": {},
   "outputs": [],
   "source": [
    "import pandas as pd"
   ]
  },
  {
   "cell_type": "code",
   "execution_count": 2,
   "metadata": {},
   "outputs": [],
   "source": [
    "from matplotlib import pyplot as plt     # หรือ import matplotlib.pyplot as plt ก็ได้เช่นกัน"
   ]
  },
  {
   "cell_type": "code",
   "execution_count": 3,
   "metadata": {
    "scrolled": true
   },
   "outputs": [
    {
     "data": {
      "text/html": [
       "<div>\n",
       "<style scoped>\n",
       "    .dataframe tbody tr th:only-of-type {\n",
       "        vertical-align: middle;\n",
       "    }\n",
       "\n",
       "    .dataframe tbody tr th {\n",
       "        vertical-align: top;\n",
       "    }\n",
       "\n",
       "    .dataframe thead th {\n",
       "        text-align: right;\n",
       "    }\n",
       "</style>\n",
       "<table border=\"1\" class=\"dataframe\">\n",
       "  <thead>\n",
       "    <tr style=\"text-align: right;\">\n",
       "      <th></th>\n",
       "      <th>ภาค และจังหวัด</th>\n",
       "      <th>Unnamed: 1</th>\n",
       "      <th>2541</th>\n",
       "      <th>2543</th>\n",
       "      <th>2545</th>\n",
       "      <th>2547</th>\n",
       "      <th>2549</th>\n",
       "      <th>2550</th>\n",
       "      <th>2552</th>\n",
       "      <th>2554</th>\n",
       "      <th>2556</th>\n",
       "      <th>2558</th>\n",
       "      <th>Region and province</th>\n",
       "    </tr>\n",
       "  </thead>\n",
       "  <tbody>\n",
       "    <tr>\n",
       "      <th>0</th>\n",
       "      <td>NaN</td>\n",
       "      <td>NaN</td>\n",
       "      <td>1998.0</td>\n",
       "      <td>2000.0</td>\n",
       "      <td>2002.0</td>\n",
       "      <td>2004.0</td>\n",
       "      <td>2006.0</td>\n",
       "      <td>2007.0</td>\n",
       "      <td>2009.0</td>\n",
       "      <td>2011.0</td>\n",
       "      <td>2013.0</td>\n",
       "      <td>2015.000000</td>\n",
       "      <td>NaN</td>\n",
       "    </tr>\n",
       "    <tr>\n",
       "      <th>1</th>\n",
       "      <td>NaN</td>\n",
       "      <td>NaN</td>\n",
       "      <td>NaN</td>\n",
       "      <td>NaN</td>\n",
       "      <td>NaN</td>\n",
       "      <td>NaN</td>\n",
       "      <td>NaN</td>\n",
       "      <td>NaN</td>\n",
       "      <td>NaN</td>\n",
       "      <td>NaN</td>\n",
       "      <td>NaN</td>\n",
       "      <td>NaN</td>\n",
       "      <td>NaN</td>\n",
       "    </tr>\n",
       "    <tr>\n",
       "      <th>2</th>\n",
       "      <td>ทั่วราชอาณาจักร</td>\n",
       "      <td>NaN</td>\n",
       "      <td>69674.0</td>\n",
       "      <td>68405.0</td>\n",
       "      <td>82485.0</td>\n",
       "      <td>104571.0</td>\n",
       "      <td>116585.0</td>\n",
       "      <td>116681.0</td>\n",
       "      <td>134699.3</td>\n",
       "      <td>134899.9</td>\n",
       "      <td>163087.0</td>\n",
       "      <td>156770.455510</td>\n",
       "      <td>Whole Kingdom</td>\n",
       "    </tr>\n",
       "    <tr>\n",
       "      <th>3</th>\n",
       "      <td>ตอนพิเศษ</td>\n",
       "      <td>NaN</td>\n",
       "      <td>131740.0</td>\n",
       "      <td>126527.0</td>\n",
       "      <td>157730.0</td>\n",
       "      <td>155622.0</td>\n",
       "      <td>155212.0</td>\n",
       "      <td>151168.0</td>\n",
       "      <td>199608.1</td>\n",
       "      <td>202157.2</td>\n",
       "      <td>273795.0</td>\n",
       "      <td>171837.386694</td>\n",
       "      <td>Greater Bangkok</td>\n",
       "    </tr>\n",
       "    <tr>\n",
       "      <th>4</th>\n",
       "      <td>กรุงเทพมหานคร</td>\n",
       "      <td>NaN</td>\n",
       "      <td>138247.0</td>\n",
       "      <td>135137.0</td>\n",
       "      <td>162199.0</td>\n",
       "      <td>160776.0</td>\n",
       "      <td>158059.0</td>\n",
       "      <td>155396.0</td>\n",
       "      <td>207665.0</td>\n",
       "      <td>218741.4</td>\n",
       "      <td>275576.8</td>\n",
       "      <td>164705.600000</td>\n",
       "      <td>Bangkok</td>\n",
       "    </tr>\n",
       "    <tr>\n",
       "      <th>...</th>\n",
       "      <td>...</td>\n",
       "      <td>...</td>\n",
       "      <td>...</td>\n",
       "      <td>...</td>\n",
       "      <td>...</td>\n",
       "      <td>...</td>\n",
       "      <td>...</td>\n",
       "      <td>...</td>\n",
       "      <td>...</td>\n",
       "      <td>...</td>\n",
       "      <td>...</td>\n",
       "      <td>...</td>\n",
       "      <td>...</td>\n",
       "    </tr>\n",
       "    <tr>\n",
       "      <th>84</th>\n",
       "      <td>นราธิวาส</td>\n",
       "      <td>NaN</td>\n",
       "      <td>25071.0</td>\n",
       "      <td>15087.0</td>\n",
       "      <td>34023.0</td>\n",
       "      <td>39297.0</td>\n",
       "      <td>57235.0</td>\n",
       "      <td>36368.0</td>\n",
       "      <td>26246.4</td>\n",
       "      <td>40942.5</td>\n",
       "      <td>44974.1</td>\n",
       "      <td>40566.900000</td>\n",
       "      <td>Narathiwat</td>\n",
       "    </tr>\n",
       "    <tr>\n",
       "      <th>85</th>\n",
       "      <td>NaN</td>\n",
       "      <td>NaN</td>\n",
       "      <td>NaN</td>\n",
       "      <td>NaN</td>\n",
       "      <td>NaN</td>\n",
       "      <td>NaN</td>\n",
       "      <td>NaN</td>\n",
       "      <td>NaN</td>\n",
       "      <td>NaN</td>\n",
       "      <td>NaN</td>\n",
       "      <td>NaN</td>\n",
       "      <td>NaN</td>\n",
       "      <td>NaN</td>\n",
       "    </tr>\n",
       "    <tr>\n",
       "      <th>86</th>\n",
       "      <td>NaN</td>\n",
       "      <td>NaN</td>\n",
       "      <td>NaN</td>\n",
       "      <td>NaN</td>\n",
       "      <td>NaN</td>\n",
       "      <td>NaN</td>\n",
       "      <td>NaN</td>\n",
       "      <td>NaN</td>\n",
       "      <td>NaN</td>\n",
       "      <td>NaN</td>\n",
       "      <td>NaN</td>\n",
       "      <td>NaN</td>\n",
       "      <td>NaN</td>\n",
       "    </tr>\n",
       "    <tr>\n",
       "      <th>87</th>\n",
       "      <td>ที่มา:</td>\n",
       "      <td>การสำรวจภาวะเศรษฐกิจและสังคมของครัวเรือน  สำนั...</td>\n",
       "      <td>NaN</td>\n",
       "      <td>NaN</td>\n",
       "      <td>NaN</td>\n",
       "      <td>NaN</td>\n",
       "      <td>NaN</td>\n",
       "      <td>NaN</td>\n",
       "      <td>NaN</td>\n",
       "      <td>NaN</td>\n",
       "      <td>NaN</td>\n",
       "      <td>NaN</td>\n",
       "      <td>NaN</td>\n",
       "    </tr>\n",
       "    <tr>\n",
       "      <th>88</th>\n",
       "      <td>Source:</td>\n",
       "      <td>The Household Socio - Economic Survey, Nationa...</td>\n",
       "      <td>NaN</td>\n",
       "      <td>NaN</td>\n",
       "      <td>NaN</td>\n",
       "      <td>NaN</td>\n",
       "      <td>NaN</td>\n",
       "      <td>NaN</td>\n",
       "      <td>NaN</td>\n",
       "      <td>NaN</td>\n",
       "      <td>NaN</td>\n",
       "      <td>NaN</td>\n",
       "      <td>NaN</td>\n",
       "    </tr>\n",
       "  </tbody>\n",
       "</table>\n",
       "<p>89 rows × 13 columns</p>\n",
       "</div>"
      ],
      "text/plain": [
       "          ภาค และจังหวัด                                         Unnamed: 1  \\\n",
       "0                    NaN                                                NaN   \n",
       "1                    NaN                                                NaN   \n",
       "2        ทั่วราชอาณาจักร                                                NaN   \n",
       "3               ตอนพิเศษ                                                NaN   \n",
       "4          กรุงเทพมหานคร                                                NaN   \n",
       "..                   ...                                                ...   \n",
       "84              นราธิวาส                                                NaN   \n",
       "85                   NaN                                                NaN   \n",
       "86                   NaN                                                NaN   \n",
       "87                ที่มา:  การสำรวจภาวะเศรษฐกิจและสังคมของครัวเรือน  สำนั...   \n",
       "88               Source:  The Household Socio - Economic Survey, Nationa...   \n",
       "\n",
       "        2541      2543      2545      2547      2549      2550      2552  \\\n",
       "0     1998.0    2000.0    2002.0    2004.0    2006.0    2007.0    2009.0   \n",
       "1        NaN       NaN       NaN       NaN       NaN       NaN       NaN   \n",
       "2    69674.0   68405.0   82485.0  104571.0  116585.0  116681.0  134699.3   \n",
       "3   131740.0  126527.0  157730.0  155622.0  155212.0  151168.0  199608.1   \n",
       "4   138247.0  135137.0  162199.0  160776.0  158059.0  155396.0  207665.0   \n",
       "..       ...       ...       ...       ...       ...       ...       ...   \n",
       "84   25071.0   15087.0   34023.0   39297.0   57235.0   36368.0   26246.4   \n",
       "85       NaN       NaN       NaN       NaN       NaN       NaN       NaN   \n",
       "86       NaN       NaN       NaN       NaN       NaN       NaN       NaN   \n",
       "87       NaN       NaN       NaN       NaN       NaN       NaN       NaN   \n",
       "88       NaN       NaN       NaN       NaN       NaN       NaN       NaN   \n",
       "\n",
       "        2554      2556           2558    Region and province  \n",
       "0     2011.0    2013.0    2015.000000                    NaN  \n",
       "1        NaN       NaN            NaN                    NaN  \n",
       "2   134899.9  163087.0  156770.455510          Whole Kingdom  \n",
       "3   202157.2  273795.0  171837.386694        Greater Bangkok  \n",
       "4   218741.4  275576.8  164705.600000                Bangkok  \n",
       "..       ...       ...            ...                    ...  \n",
       "84   40942.5   44974.1   40566.900000             Narathiwat  \n",
       "85       NaN       NaN            NaN                    NaN  \n",
       "86       NaN       NaN            NaN                    NaN  \n",
       "87       NaN       NaN            NaN                    NaN  \n",
       "88       NaN       NaN            NaN                    NaN  \n",
       "\n",
       "[89 rows x 13 columns]"
      ]
     },
     "execution_count": 3,
     "metadata": {},
     "output_type": "execute_result"
    }
   ],
   "source": [
    "df = pd.read_excel('C:\\\\Users\\\\MUBU\\\\Documents\\\\Basic Data Science\\\\income.xls', header = 3)\n",
    "df"
   ]
  },
  {
   "cell_type": "code",
   "execution_count": 4,
   "metadata": {},
   "outputs": [
    {
     "data": {
      "text/html": [
       "<div>\n",
       "<style scoped>\n",
       "    .dataframe tbody tr th:only-of-type {\n",
       "        vertical-align: middle;\n",
       "    }\n",
       "\n",
       "    .dataframe tbody tr th {\n",
       "        vertical-align: top;\n",
       "    }\n",
       "\n",
       "    .dataframe thead th {\n",
       "        text-align: right;\n",
       "    }\n",
       "</style>\n",
       "<table border=\"1\" class=\"dataframe\">\n",
       "  <thead>\n",
       "    <tr style=\"text-align: right;\">\n",
       "      <th></th>\n",
       "      <th>ภาค และจังหวัด</th>\n",
       "      <th>Unnamed: 1</th>\n",
       "      <th>2541</th>\n",
       "      <th>2543</th>\n",
       "      <th>2545</th>\n",
       "      <th>2547</th>\n",
       "      <th>2549</th>\n",
       "      <th>2550</th>\n",
       "      <th>2552</th>\n",
       "      <th>2554</th>\n",
       "      <th>2556</th>\n",
       "      <th>2558</th>\n",
       "      <th>Region and province</th>\n",
       "    </tr>\n",
       "  </thead>\n",
       "  <tbody>\n",
       "    <tr>\n",
       "      <th>4</th>\n",
       "      <td>กรุงเทพมหานคร</td>\n",
       "      <td>NaN</td>\n",
       "      <td>138247.0</td>\n",
       "      <td>135137.0</td>\n",
       "      <td>162199.0</td>\n",
       "      <td>160776.0</td>\n",
       "      <td>158059.0</td>\n",
       "      <td>155396.0</td>\n",
       "      <td>207665.0</td>\n",
       "      <td>218741.4</td>\n",
       "      <td>275576.8</td>\n",
       "      <td>164705.6</td>\n",
       "      <td>Bangkok</td>\n",
       "    </tr>\n",
       "    <tr>\n",
       "      <th>5</th>\n",
       "      <td>สมุทรปราการ</td>\n",
       "      <td>NaN</td>\n",
       "      <td>40632.0</td>\n",
       "      <td>67390.0</td>\n",
       "      <td>84345.0</td>\n",
       "      <td>78750.0</td>\n",
       "      <td>95975.0</td>\n",
       "      <td>85904.0</td>\n",
       "      <td>117360.8</td>\n",
       "      <td>115168.8</td>\n",
       "      <td>207741.1</td>\n",
       "      <td>87647.2</td>\n",
       "      <td>Samut Prakan</td>\n",
       "    </tr>\n",
       "    <tr>\n",
       "      <th>6</th>\n",
       "      <td>นนทบุรี</td>\n",
       "      <td>NaN</td>\n",
       "      <td>112337.0</td>\n",
       "      <td>102994.0</td>\n",
       "      <td>145908.0</td>\n",
       "      <td>203040.0</td>\n",
       "      <td>179007.0</td>\n",
       "      <td>196895.0</td>\n",
       "      <td>240769.0</td>\n",
       "      <td>258853.4</td>\n",
       "      <td>260752.2</td>\n",
       "      <td>277605.7</td>\n",
       "      <td>Nonthaburi</td>\n",
       "    </tr>\n",
       "    <tr>\n",
       "      <th>7</th>\n",
       "      <td>ปทุมธานี</td>\n",
       "      <td>NaN</td>\n",
       "      <td>217932.0</td>\n",
       "      <td>139691.0</td>\n",
       "      <td>232245.0</td>\n",
       "      <td>145015.0</td>\n",
       "      <td>193153.0</td>\n",
       "      <td>152187.0</td>\n",
       "      <td>220761.2</td>\n",
       "      <td>145293.0</td>\n",
       "      <td>386957.4</td>\n",
       "      <td>221748.2</td>\n",
       "      <td>Pathum Thani</td>\n",
       "    </tr>\n",
       "  </tbody>\n",
       "</table>\n",
       "</div>"
      ],
      "text/plain": [
       "         ภาค และจังหวัด Unnamed: 1      2541      2543      2545      2547  \\\n",
       "4         กรุงเทพมหานคร        NaN  138247.0  135137.0  162199.0  160776.0   \n",
       "5           สมุทรปราการ        NaN   40632.0   67390.0   84345.0   78750.0   \n",
       "6               นนทบุรี        NaN  112337.0  102994.0  145908.0  203040.0   \n",
       "7              ปทุมธานี        NaN  217932.0  139691.0  232245.0  145015.0   \n",
       "\n",
       "       2549      2550      2552      2554      2556      2558  \\\n",
       "4  158059.0  155396.0  207665.0  218741.4  275576.8  164705.6   \n",
       "5   95975.0   85904.0  117360.8  115168.8  207741.1   87647.2   \n",
       "6  179007.0  196895.0  240769.0  258853.4  260752.2  277605.7   \n",
       "7  193153.0  152187.0  220761.2  145293.0  386957.4  221748.2   \n",
       "\n",
       "       Region and province  \n",
       "4                  Bangkok  \n",
       "5             Samut Prakan  \n",
       "6               Nonthaburi  \n",
       "7             Pathum Thani  "
      ]
     },
     "execution_count": 4,
     "metadata": {},
     "output_type": "execute_result"
    }
   ],
   "source": [
    "# เอาแค่ กรุงเทพ สมุทรปราการ นนทบุรี และปทุมธานี ซึ่งเป็นข้อมูลที่เราต้องการ\n",
    "greaterbangkok = df.iloc[4:8,:]\n",
    "greaterbangkok"
   ]
  },
  {
   "cell_type": "markdown",
   "metadata": {},
   "source": [
    "# Barchart = กราฟแท่ง"
   ]
  },
  {
   "cell_type": "markdown",
   "metadata": {},
   "source": [
    "### สร้างกราฟแท่งเปรียบเทียบรายได้ในปี 2541 ของจังหวัดกรุงเทพ และปริมณฑล"
   ]
  },
  {
   "cell_type": "code",
   "execution_count": 5,
   "metadata": {},
   "outputs": [
    {
     "data": {
      "image/png": "[encoded data removed]",
      "text/plain": [
       "<Figure size 432x288 with 1 Axes>"
      ]
     },
     "metadata": {
      "needs_background": "light"
     },
     "output_type": "display_data"
    }
   ],
   "source": [
    "plt.bar([1, 2, 3, 4], greaterbangkok.iloc[:,2])      # มีทั้งหมด 4 กราฟ จึงเป็น 1, 2, 3, 4 เป็นกราฟของจังหวัดกรุงเทพ สมุทรปราการ นนทบุรี และปทุมธานี\n",
    "plt.title('Barchart comparing incomes of provinces in Greater Bangkok in 2541');"
   ]
  },
  {
   "cell_type": "code",
   "execution_count": 6,
   "metadata": {},
   "outputs": [
    {
     "data": {
      "image/png": "[encoded data removed]",
      "text/plain": [
       "<Figure size 432x288 with 1 Axes>"
      ]
     },
     "metadata": {
      "needs_background": "light"
     },
     "output_type": "display_data"
    }
   ],
   "source": [
    "plt.bar([1, 2, 3, 4], greaterbangkok.iloc[:,2])\n",
    "plt.title('Barchart comparing incomes of provinces in Greater Bangkok in 2541')\n",
    "plt.xlabel('Provinces')\n",
    "plt.ylabel('Income Baht/Month/Household');"
   ]
  },
  {
   "cell_type": "markdown",
   "metadata": {},
   "source": [
    "## add tick label หรือการตั้งชื่อให้แต่ละแท่ง"
   ]
  },
  {
   "cell_type": "code",
   "execution_count": 7,
   "metadata": {
    "scrolled": true
   },
   "outputs": [
    {
     "data": {
      "image/png": "[encoded data removed]",
      "text/plain": [
       "<Figure size 432x288 with 1 Axes>"
      ]
     },
     "metadata": {
      "needs_background": "light"
     },
     "output_type": "display_data"
    }
   ],
   "source": [
    "plt.bar([1, 2, 3, 4], greaterbangkok.iloc[:,2], tick_label = ['Bangkok', 'Samut Prakan', 'Nonthaburi', 'Pathum Thani'])\n",
    "plt.title('Barchart comparing incomes of provinces in Greater Bangkok in 2541')\n",
    "plt.xlabel('Provinces')\n",
    "plt.ylabel('Income Baht/Month/Household');"
   ]
  },
  {
   "cell_type": "markdown",
   "metadata": {},
   "source": [
    "## สามารถทำแบบคนฉลาดมีความรู้ โดยใช้ iloc"
   ]
  },
  {
   "cell_type": "code",
   "execution_count": 8,
   "metadata": {},
   "outputs": [
    {
     "data": {
      "image/png": "[encoded data removed]",
      "text/plain": [
       "<Figure size 432x288 with 1 Axes>"
      ]
     },
     "metadata": {
      "needs_background": "light"
     },
     "output_type": "display_data"
    }
   ],
   "source": [
    "plt.bar([1, 2, 3, 4], greaterbangkok.iloc[:,2], tick_label = greaterbangkok.iloc[:,-1])\n",
    "plt.title('Barchart comparing incomes of provinces in Greater Bangkok in 2541')     # ชื่อกราฟแท่ง\n",
    "plt.xlabel('Provinces')                                         # ชื่อแกน x\n",
    "plt.ylabel('Income Baht/Month/Household');         # ชื่อแกน y"
   ]
  },
  {
   "cell_type": "markdown",
   "metadata": {},
   "source": [
    "## Compare different years"
   ]
  },
  {
   "cell_type": "code",
   "execution_count": 9,
   "metadata": {},
   "outputs": [
    {
     "data": {
      "image/png": "[encoded data removed]",
      "text/plain": [
       "<Figure size 432x288 with 1 Axes>"
      ]
     },
     "metadata": {
      "needs_background": "light"
     },
     "output_type": "display_data"
    }
   ],
   "source": [
    "plt.bar([1-(0.35/2), 2-(0.35/2), 3-(0.35/2), 4-(0.35/2)], greaterbangkok.iloc[:,-2], width=0.35, tick_label = greaterbangkok.iloc[:,-1], color = 'm', label = '2558')\n",
    "plt.bar([1+(0.35/2), 2+(0.35/2), 3+(0.35/2), 4+(0.35/2)], greaterbangkok.iloc[:,2], width=0.35, tick_label = greaterbangkok.iloc[:,-1], color = 'c', label = '2541');"
   ]
  },
  {
   "cell_type": "markdown",
   "metadata": {},
   "source": [
    "### ทำให้เส้นที่อยู่ใต้กราฟจากที่ไม่อยู่ระหว่างกลางของ2กราฟเปรียบเทียบกันให้อยู่ตรงกลาง โดยใช้ align"
   ]
  },
  {
   "cell_type": "code",
   "execution_count": 10,
   "metadata": {},
   "outputs": [
    {
     "data": {
      "image/png": "[encoded data removed]",
      "text/plain": [
       "<Figure size 432x288 with 1 Axes>"
      ]
     },
     "metadata": {
      "needs_background": "light"
     },
     "output_type": "display_data"
    }
   ],
   "source": [
    "plt.bar([1-(0.35/2), 2-(0.35/2), 3-(0.35/2), 4-(0.35/2)], greaterbangkok.iloc[:,-2], width=0.35, tick_label = greaterbangkok.iloc[:,-1], color = 'm', label = '2558', align='edge')\n",
    "plt.bar([1+(0.35/2), 2+(0.35/2), 3+(0.35/2), 4+(0.35/2)], greaterbangkok.iloc[:,2], width=0.35, tick_label = greaterbangkok.iloc[:,-1], color = 'c', label = '2541', align='edge');"
   ]
  },
  {
   "cell_type": "code",
   "execution_count": 11,
   "metadata": {},
   "outputs": [
    {
     "data": {
      "image/png": "[encoded data removed]",
      "text/plain": [
       "<Figure size 432x288 with 1 Axes>"
      ]
     },
     "metadata": {
      "needs_background": "light"
     },
     "output_type": "display_data"
    }
   ],
   "source": [
    "plt.bar([1-(0.35/2), 2-(0.35/2), 3-(0.35/2), 4-(0.35/2)], greaterbangkok.iloc[:,-2], width=0.35, tick_label = greaterbangkok.iloc[:,-1], color = 'm', label = '2558', align='edge')\n",
    "plt.bar([1+(0.35/2), 2+(0.35/2), 3+(0.35/2), 4+(0.35/2)], greaterbangkok.iloc[:,2], width=0.35, tick_label = greaterbangkok.iloc[:,-1], color = 'c', label = '2541', align='edge')\n",
    "plt.title('Barchart comparing incomes of provinces in Greater Bangkok in 2541')\n",
    "plt.xlabel('Provinces')\n",
    "plt.ylabel('Income Baht/Month/Household');"
   ]
  },
  {
   "cell_type": "code",
   "execution_count": 12,
   "metadata": {},
   "outputs": [
    {
     "data": {
      "image/png": "[encoded data removed]",
      "text/plain": [
       "<Figure size 432x288 with 1 Axes>"
      ]
     },
     "metadata": {
      "needs_background": "light"
     },
     "output_type": "display_data"
    }
   ],
   "source": [
    "plt.bar([1-(0.35/2), 2-(0.35/2), 3-(0.35/2), 4-(0.35/2)], greaterbangkok.iloc[:,-2], width=0.35, tick_label = greaterbangkok.iloc[:,-1], color = 'm', label = '2558', align='edge')\n",
    "plt.bar([1+(0.35/2), 2+(0.35/2), 3+(0.35/2), 4+(0.35/2)], greaterbangkok.iloc[:,2], width=0.35, tick_label = greaterbangkok.iloc[:,-1], color = 'c', label = '2541', align='edge')\n",
    "plt.title('Barchart comparing incomes of provinces in Greater Bangkok in 2541')\n",
    "plt.xlabel('Provinces')\n",
    "plt.legend()\n",
    "plt.ylabel('Income Baht/Month/Household');"
   ]
  },
  {
   "cell_type": "markdown",
   "metadata": {},
   "source": [
    "# Stacked Barchart"
   ]
  },
  {
   "cell_type": "code",
   "execution_count": 32,
   "metadata": {},
   "outputs": [
    {
     "data": {
      "text/html": [
       "<div>\n",
       "<style scoped>\n",
       "    .dataframe tbody tr th:only-of-type {\n",
       "        vertical-align: middle;\n",
       "    }\n",
       "\n",
       "    .dataframe tbody tr th {\n",
       "        vertical-align: top;\n",
       "    }\n",
       "\n",
       "    .dataframe thead th {\n",
       "        text-align: right;\n",
       "    }\n",
       "</style>\n",
       "<table border=\"1\" class=\"dataframe\">\n",
       "  <thead>\n",
       "    <tr style=\"text-align: right;\">\n",
       "      <th></th>\n",
       "      <th>North</th>\n",
       "      <th>East</th>\n",
       "      <th>West</th>\n",
       "      <th>South</th>\n",
       "    </tr>\n",
       "  </thead>\n",
       "  <tbody>\n",
       "    <tr>\n",
       "      <th>0</th>\n",
       "      <td>20</td>\n",
       "      <td>10</td>\n",
       "      <td>90</td>\n",
       "      <td>120</td>\n",
       "    </tr>\n",
       "    <tr>\n",
       "      <th>1</th>\n",
       "      <td>220</td>\n",
       "      <td>20</td>\n",
       "      <td>50</td>\n",
       "      <td>90</td>\n",
       "    </tr>\n",
       "  </tbody>\n",
       "</table>\n",
       "</div>"
      ],
      "text/plain": [
       "   North  East  West  South\n",
       "0     20    10    90    120\n",
       "1    220    20    50     90"
      ]
     },
     "execution_count": 32,
     "metadata": {},
     "output_type": "execute_result"
    }
   ],
   "source": [
    "saledata = pd.DataFrame([{'North':20, 'East':10, 'West':90, 'South':120},\n",
    "                                    {'North':220, 'East':20, 'West':50, 'South':90}])\n",
    "saledata"
   ]
  },
  {
   "cell_type": "code",
   "execution_count": 35,
   "metadata": {},
   "outputs": [
    {
     "data": {
      "image/png": "[encoded data removed]",
      "text/plain": [
       "<Figure size 432x288 with 1 Axes>"
      ]
     },
     "metadata": {
      "needs_background": "light"
     },
     "output_type": "display_data"
    }
   ],
   "source": [
    "plt.bar([1, 2], saledata.iloc[:,0], tick_label =['Company A','Company B'])\n",
    "plt.bar([1, 2], saledata.iloc[:,1], bottom = saledata.iloc[:,0], tick_label = ['Company A','Company B']);"
   ]
  },
  {
   "cell_type": "code",
   "execution_count": 53,
   "metadata": {},
   "outputs": [
    {
     "data": {
      "image/png": "[encoded data removed]",
      "text/plain": [
       "<Figure size 432x288 with 1 Axes>"
      ]
     },
     "metadata": {
      "needs_background": "light"
     },
     "output_type": "display_data"
    }
   ],
   "source": [
    "plt.bar([1, 2], saledata.iloc[:,0], tick_label =['Company A','Company B'], color = 'c')\n",
    "plt.bar([1, 2], saledata.iloc[:,1], bottom = saledata.iloc[:,0], tick_label = ['Company A','Company B'], color = 'g')\n",
    "plt.bar([1, 2], saledata.iloc[:,2], bottom = saledata.iloc[:,0]+saledata.iloc[:,1], tick_label = ['Company A','Company B'], color = 'k')\n",
    "plt.bar([1, 2], saledata.iloc[:,3], bottom = saledata.iloc[:,0]+saledata.iloc[:,1]+saledata.iloc[:,2], tick_label = ['Company A','Company B'], color = 'm');"
   ]
  }
 ],
 "metadata": {
  "kernelspec": {
   "display_name": "Python 3",
   "language": "python",
   "name": "python3"
  },
  "language_info": {
   "codemirror_mode": {
    "name": "ipython",
    "version": 3
   },
   "file_extension": ".py",
   "mimetype": "text/x-python",
   "name": "python",
   "nbconvert_exporter": "python",
   "pygments_lexer": "ipython3",
   "version": "3.7.4"
  }
 },
 "nbformat": 4,
 "nbformat_minor": 2
}
